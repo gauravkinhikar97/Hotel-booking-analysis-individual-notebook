{
  "nbformat": 4,
  "nbformat_minor": 0,
  "metadata": {
    "kernelspec": {
      "display_name": "Python 3",
      "language": "python",
      "name": "python3"
    },
    "language_info": {
      "codemirror_mode": {
        "name": "ipython",
        "version": 3
      },
      "file_extension": ".py",
      "mimetype": "text/x-python",
      "name": "python",
      "nbconvert_exporter": "python",
      "pygments_lexer": "ipython3",
      "version": "3.6.6"
    },
    "colab": {
      "name": "Hotel Booking Analysis - Individual Project by Gaurav Kinhikar",
      "provenance": [],
      "include_colab_link": true
    }
  },
  "cells": [
    {
      "cell_type": "markdown",
      "metadata": {
        "id": "view-in-github",
        "colab_type": "text"
      },
      "source": [
        "<a href=\"https://colab.research.google.com/github/gauravkinhikar97/Hotel-booking-analysis-individual-notebook/blob/main/Hotel_Booking_Analysis_Individual_Project_by_Gaurav_Kinhikar.ipynb\" target=\"_parent\"><img src=\"https://colab.research.google.com/assets/colab-badge.svg\" alt=\"Open In Colab\"/></a>"
      ]
    },
    {
      "cell_type": "markdown",
      "metadata": {
        "id": "Y06xIdG26kRF"
      },
      "source": [
        "## <b> Have you ever wondered when the best time of year to book a hotel room is? Or the optimal length of stay in order to get the best daily rate? What if you wanted to predict whether or not a hotel was likely to receive a disproportionately high number of special requests? This hotel booking dataset can help you explore those questions!\n",
        "\n",
        "## <b>This data set contains booking information for a city hotel and a resort hotel, and includes information such as when the booking was made, length of stay, the number of adults, children, and/or babies, and the number of available parking spaces, among other things. All personally identifying information has been removed from the data. </b>\n",
        "\n",
        "## <b> Explore and analyze the data to discover important factors that govern the bookings. </b>"
      ]
    },
    {
      "cell_type": "code",
      "metadata": {
        "id": "dByMsuzT8Tnw"
      },
      "source": [
        "import numpy as np\n",
        "import pandas as pd\n",
        "import matplotlib.pyplot as plt\n",
        "import seaborn as sns\n",
        "import matplotlib.ticker as mtick"
      ],
      "execution_count": null,
      "outputs": []
    },
    {
      "cell_type": "code",
      "source": [
        "from google.colab import drive\n",
        "drive.mount('/content/drive')"
      ],
      "metadata": {
        "id": "QNEuY4E7GaH2",
        "outputId": "61b55a86-081e-4190-a7e4-6d68cfc757b3",
        "colab": {
          "base_uri": "https://localhost:8080/"
        }
      },
      "execution_count": null,
      "outputs": [
        {
          "output_type": "stream",
          "name": "stdout",
          "text": [
            "Mounted at /content/drive\n"
          ]
        }
      ]
    },
    {
      "cell_type": "code",
      "source": [
        "Data_df = pd.read_csv('/content/drive/MyDrive/Capstone Project/hotel booking analysis/Hotel Bookings.csv')"
      ],
      "metadata": {
        "id": "DL_4FC4cMnZs"
      },
      "execution_count": null,
      "outputs": []
    },
    {
      "cell_type": "code",
      "source": [
        "Data_df = Data_df.copy()"
      ],
      "metadata": {
        "id": "DK3KxbJeZLha"
      },
      "execution_count": null,
      "outputs": []
    },
    {
      "cell_type": "code",
      "source": [
        "print(Data_df.shape)"
      ],
      "metadata": {
        "colab": {
          "base_uri": "https://localhost:8080/"
        },
        "id": "ZiC0zENBZSbj",
        "outputId": "e835be5b-6498-4833-96b7-afeb9c079856"
      },
      "execution_count": null,
      "outputs": [
        {
          "output_type": "stream",
          "name": "stdout",
          "text": [
            "(119390, 32)\n"
          ]
        }
      ]
    },
    {
      "cell_type": "code",
      "source": [
        "Data_df.info()"
      ],
      "metadata": {
        "colab": {
          "base_uri": "https://localhost:8080/"
        },
        "id": "JzKHheWpZUo_",
        "outputId": "91a47334-0cc3-42a6-87d0-c6874781081c"
      },
      "execution_count": null,
      "outputs": [
        {
          "output_type": "stream",
          "name": "stdout",
          "text": [
            "<class 'pandas.core.frame.DataFrame'>\n",
            "RangeIndex: 119390 entries, 0 to 119389\n",
            "Data columns (total 32 columns):\n",
            " #   Column                          Non-Null Count   Dtype  \n",
            "---  ------                          --------------   -----  \n",
            " 0   hotel                           119390 non-null  object \n",
            " 1   is_canceled                     119390 non-null  int64  \n",
            " 2   lead_time                       119390 non-null  int64  \n",
            " 3   arrival_date_year               119390 non-null  int64  \n",
            " 4   arrival_date_month              119390 non-null  object \n",
            " 5   arrival_date_week_number        119390 non-null  int64  \n",
            " 6   arrival_date_day_of_month       119390 non-null  int64  \n",
            " 7   stays_in_weekend_nights         119390 non-null  int64  \n",
            " 8   stays_in_week_nights            119390 non-null  int64  \n",
            " 9   adults                          119390 non-null  int64  \n",
            " 10  children                        119386 non-null  float64\n",
            " 11  babies                          119390 non-null  int64  \n",
            " 12  meal                            119390 non-null  object \n",
            " 13  country                         118902 non-null  object \n",
            " 14  market_segment                  119390 non-null  object \n",
            " 15  distribution_channel            119390 non-null  object \n",
            " 16  is_repeated_guest               119390 non-null  int64  \n",
            " 17  previous_cancellations          119390 non-null  int64  \n",
            " 18  previous_bookings_not_canceled  119390 non-null  int64  \n",
            " 19  reserved_room_type              119390 non-null  object \n",
            " 20  assigned_room_type              119390 non-null  object \n",
            " 21  booking_changes                 119390 non-null  int64  \n",
            " 22  deposit_type                    119390 non-null  object \n",
            " 23  agent                           103050 non-null  float64\n",
            " 24  company                         6797 non-null    float64\n",
            " 25  days_in_waiting_list            119390 non-null  int64  \n",
            " 26  customer_type                   119390 non-null  object \n",
            " 27  adr                             119390 non-null  float64\n",
            " 28  required_car_parking_spaces     119390 non-null  int64  \n",
            " 29  total_of_special_requests       119390 non-null  int64  \n",
            " 30  reservation_status              119390 non-null  object \n",
            " 31  reservation_status_date         119390 non-null  object \n",
            "dtypes: float64(4), int64(16), object(12)\n",
            "memory usage: 29.1+ MB\n"
          ]
        }
      ]
    },
    {
      "cell_type": "markdown",
      "source": [
        "# Find out missing values"
      ],
      "metadata": {
        "id": "En4lVAJgZZNF"
      }
    },
    {
      "cell_type": "code",
      "source": [
        "Data_df.isnull().sum()"
      ],
      "metadata": {
        "colab": {
          "base_uri": "https://localhost:8080/"
        },
        "id": "FS7aE5lWZcF2",
        "outputId": "8367f7d6-1737-4680-9a30-b4b86028375d"
      },
      "execution_count": null,
      "outputs": [
        {
          "output_type": "execute_result",
          "data": {
            "text/plain": [
              "hotel                                  0\n",
              "is_canceled                            0\n",
              "lead_time                              0\n",
              "arrival_date_year                      0\n",
              "arrival_date_month                     0\n",
              "arrival_date_week_number               0\n",
              "arrival_date_day_of_month              0\n",
              "stays_in_weekend_nights                0\n",
              "stays_in_week_nights                   0\n",
              "adults                                 0\n",
              "children                               4\n",
              "babies                                 0\n",
              "meal                                   0\n",
              "country                              488\n",
              "market_segment                         0\n",
              "distribution_channel                   0\n",
              "is_repeated_guest                      0\n",
              "previous_cancellations                 0\n",
              "previous_bookings_not_canceled         0\n",
              "reserved_room_type                     0\n",
              "assigned_room_type                     0\n",
              "booking_changes                        0\n",
              "deposit_type                           0\n",
              "agent                              16340\n",
              "company                           112593\n",
              "days_in_waiting_list                   0\n",
              "customer_type                          0\n",
              "adr                                    0\n",
              "required_car_parking_spaces            0\n",
              "total_of_special_requests              0\n",
              "reservation_status                     0\n",
              "reservation_status_date                0\n",
              "dtype: int64"
            ]
          },
          "metadata": {},
          "execution_count": 7
        }
      ]
    },
    {
      "cell_type": "markdown",
      "source": [
        "# Data having four columns with null values then this colums has to fill with 0"
      ],
      "metadata": {
        "id": "OVCY2n9PZomw"
      }
    },
    {
      "cell_type": "code",
      "source": [
        "Data_df[['agent','company']] = Data_df[['agent','company']].fillna(0.0)"
      ],
      "metadata": {
        "id": "VWmZg-XvZlie"
      },
      "execution_count": null,
      "outputs": []
    },
    {
      "cell_type": "code",
      "source": [
        "## For the missing values in the country column, replace it with mode (value that appears most often)\n",
        "Data_df['country'].fillna(Data_df.country.mode().to_string(), inplace=True)\n",
        "\n",
        "\n",
        "## for missing children value, replace it with rounded mean value\n",
        "Data_df['children'].fillna(round(Data_df.children.mean()), inplace=True)"
      ],
      "metadata": {
        "id": "mUmdd2KmZvqJ"
      },
      "execution_count": null,
      "outputs": []
    },
    {
      "cell_type": "code",
      "source": [
        "## Drop Rows where there is no adult, baby and child\n",
        "df = Data_df.drop(Data_df[(Data_df.adults+Data_df.babies+Data_df.children)==0].index)"
      ],
      "metadata": {
        "id": "kQRCjEpzZxnz"
      },
      "execution_count": null,
      "outputs": []
    },
    {
      "cell_type": "markdown",
      "source": [
        "# Let's see some Analysis On given Data"
      ],
      "metadata": {
        "id": "vC3Nvys3Z0QW"
      }
    },
    {
      "cell_type": "markdown",
      "source": [
        "# 1. Booking percentage ratio between Resort Hotel and City Hotel"
      ],
      "metadata": {
        "id": "v2bC3m2MZ6Ze"
      }
    },
    {
      "cell_type": "markdown",
      "source": [
        "We have two types of hotel's Resort hotel and City hotel let's see via pie chart which type of hotel prefers a lot by guest's"
      ],
      "metadata": {
        "id": "S2Dj0fOBZ-cc"
      }
    },
    {
      "cell_type": "code",
      "source": [
        "labels = Data_df['hotel'].value_counts().index.tolist()\n",
        "size = Data_df['hotel'].value_counts().tolist()\n",
        "explode = (0,0.05)\n",
        "colors = ['red', 'yellow']\n",
        "\n",
        "plt.pie(size, explode=explode, labels=labels, colors=colors, autopct='%5.1f%%',startangle =180, textprops={'fontsize':20})\n",
        "plt.show()"
      ],
      "metadata": {
        "colab": {
          "base_uri": "https://localhost:8080/",
          "height": 248
        },
        "id": "3HBQ-5l6aC3W",
        "outputId": "7629b9d0-b370-4142-c872-6c95a498a659"
      },
      "execution_count": null,
      "outputs": [
        {
          "output_type": "display_data",
          "data": {
            "text/plain": [
              "<Figure size 432x288 with 1 Axes>"
            ],
            "image/png": "[encoded data removed]"
          },
          "metadata": {}
        }
      ]
    },
    {
      "cell_type": "markdown",
      "source": [
        "Most Guests Prefer City Hotel over Resort Hotel"
      ],
      "metadata": {
        "id": "2sDEAc09aTdq"
      }
    },
    {
      "cell_type": "markdown",
      "source": [
        "# 2. Cancelation and not cancelation ratio"
      ],
      "metadata": {
        "id": "FvCkgYbaay95"
      }
    },
    {
      "cell_type": "code",
      "source": [
        "sns.countplot('is_canceled',data = Data_df)"
      ],
      "metadata": {
        "colab": {
          "base_uri": "https://localhost:8080/",
          "height": 352
        },
        "id": "6oA8nhwaaWCh",
        "outputId": "4cbd8c9a-afbf-4aea-cb22-2a34049eb79f"
      },
      "execution_count": null,
      "outputs": [
        {
          "output_type": "stream",
          "name": "stderr",
          "text": [
            "/usr/local/lib/python3.7/dist-packages/seaborn/_decorators.py:43: FutureWarning: Pass the following variable as a keyword arg: x. From version 0.12, the only valid positional argument will be `data`, and passing other arguments without an explicit keyword will result in an error or misinterpretation.\n",
            "  FutureWarning\n"
          ]
        },
        {
          "output_type": "execute_result",
          "data": {
            "text/plain": [
              "<matplotlib.axes._subplots.AxesSubplot at 0x7fd5ab120210>"
            ]
          },
          "metadata": {},
          "execution_count": 12
        },
        {
          "output_type": "display_data",
          "data": {
            "text/plain": [
              "<Figure size 432x288 with 1 Axes>"
            ],
            "image/png": "[encoded data removed]"
          },
          "metadata": {
            "needs_background": "light"
          }
        }
      ]
    },
    {
      "cell_type": "markdown",
      "source": [
        "0 is not canceled and 1 is canceled"
      ],
      "metadata": {
        "id": "MMZcAv_yaYQy"
      }
    },
    {
      "cell_type": "markdown",
      "source": [
        "Bookings which are not canceled are more in numbers than which are canceled"
      ],
      "metadata": {
        "id": "Yk5SPWtqa6zK"
      }
    },
    {
      "cell_type": "markdown",
      "source": [
        "# 3. Which hotel have high cancelations of bookings ?"
      ],
      "metadata": {
        "id": "z8_0hGs_a-FK"
      }
    },
    {
      "cell_type": "code",
      "source": [
        "sns.countplot(x=Data_df['is_canceled'],hue=Data_df['hotel'])"
      ],
      "metadata": {
        "colab": {
          "base_uri": "https://localhost:8080/",
          "height": 335
        },
        "id": "5Z_UUedxa74Y",
        "outputId": "e0dfbcf9-614b-4583-e167-3fbc2a2aa20f"
      },
      "execution_count": null,
      "outputs": [
        {
          "output_type": "display_data",
          "data": {
            "text/plain": [
              "<Figure size 720x360 with 1 Axes>"
            ],
            "image/png": "[encoded data removed]"
          },
          "metadata": {
            "needs_background": "light"
          }
        }
      ]
    },
    {
      "cell_type": "markdown",
      "source": [
        "City hotel have high cancelations of bookings than resort hotel"
      ],
      "metadata": {
        "id": "VedNa8XCbJrA"
      }
    },
    {
      "cell_type": "markdown",
      "source": [
        "# 4. Now we will see which year and month guests booking is high and also which Hotel is engaged most with bookings"
      ],
      "metadata": {
        "id": "rE3TIBcsbQHp"
      }
    },
    {
      "cell_type": "code",
      "source": [
        "Data_df.arrival_date_year.value_counts()"
      ],
      "metadata": {
        "colab": {
          "base_uri": "https://localhost:8080/"
        },
        "id": "cQ_A_ahBbK7Q",
        "outputId": "89f41f53-6b15-4ac1-e057-899aeb5bfe3b"
      },
      "execution_count": null,
      "outputs": [
        {
          "output_type": "execute_result",
          "data": {
            "text/plain": [
              "2016    56707\n",
              "2017    40687\n",
              "2015    21996\n",
              "Name: arrival_date_year, dtype: int64"
            ]
          },
          "metadata": {},
          "execution_count": 97
        }
      ]
    },
    {
      "cell_type": "code",
      "source": [
        "sns.countplot(x=Data_df['arrival_date_year'],hue=Data_df['hotel'])"
      ],
      "metadata": {
        "colab": {
          "base_uri": "https://localhost:8080/",
          "height": 338
        },
        "id": "0lKHPPgvbe7G",
        "outputId": "792778fa-f8a1-487c-84a6-9db6fac112e6"
      },
      "execution_count": null,
      "outputs": [
        {
          "output_type": "display_data",
          "data": {
            "text/plain": [
              "<Figure size 720x360 with 1 Axes>"
            ],
            "image/png": "[encoded data removed]"
          },
          "metadata": {
            "needs_background": "light"
          }
        }
      ]
    },
    {
      "cell_type": "markdown",
      "source": [
        "we have seen that in 2016 here is most number of guest and In which guests prefer city hotel over resort hotel"
      ],
      "metadata": {
        "id": "Eeko820vbi3G"
      }
    },
    {
      "cell_type": "markdown",
      "source": [
        "# 5. In which Month's Guests booking is engaged most with hotel"
      ],
      "metadata": {
        "id": "BBY6_inKbjrD"
      }
    },
    {
      "cell_type": "code",
      "source": [
        "Data_df.arrival_date_month.value_counts()"
      ],
      "metadata": {
        "colab": {
          "base_uri": "https://localhost:8080/"
        },
        "id": "JwDeKDK6bte6",
        "outputId": "c4f0a26b-6acd-4f23-9759-5e3300631600"
      },
      "execution_count": null,
      "outputs": [
        {
          "output_type": "execute_result",
          "data": {
            "text/plain": [
              "August       13877\n",
              "July         12661\n",
              "May          11791\n",
              "October      11160\n",
              "April        11089\n",
              "June         10939\n",
              "September    10508\n",
              "March         9794\n",
              "February      8068\n",
              "November      6794\n",
              "December      6780\n",
              "January       5929\n",
              "Name: arrival_date_month, dtype: int64"
            ]
          },
          "metadata": {},
          "execution_count": 99
        }
      ]
    },
    {
      "cell_type": "code",
      "source": [
        "sns.countplot(x=Data_df['arrival_date_month'],hue=Data_df['hotel'])\n",
        "plt.rcParams['figure.figsize'] = (18, 5)"
      ],
      "metadata": {
        "colab": {
          "base_uri": "https://localhost:8080/",
          "height": 335
        },
        "id": "SR4Jd-4qbwcO",
        "outputId": "6c6c93ad-5949-4112-ef91-26ee18bc494c"
      },
      "execution_count": null,
      "outputs": [
        {
          "output_type": "display_data",
          "data": {
            "text/plain": [
              "<Figure size 1296x360 with 1 Axes>"
            ],
            "image/png": "[encoded data removed]"
          },
          "metadata": {
            "needs_background": "light"
          }
        }
      ]
    },
    {
      "cell_type": "markdown",
      "source": [
        "August is the most engaged month and also city hotel have the most guest's bookings"
      ],
      "metadata": {
        "id": "LtwVwLBSccRL"
      }
    },
    {
      "cell_type": "markdown",
      "source": [
        "# 6. Special requests by types of customer"
      ],
      "metadata": {
        "id": "xvdEC6eP_-iI"
      }
    },
    {
      "cell_type": "code",
      "source": [
        "sns.countplot(x=Data_df['total_of_special_requests'],hue=Data_df['customer_type'])\n",
        "plt.rcParams['figure.figsize'] = (18, 5)"
      ],
      "metadata": {
        "colab": {
          "base_uri": "https://localhost:8080/",
          "height": 335
        },
        "id": "1W8PYC6iADhQ",
        "outputId": "95d394f4-a23a-4485-be9b-3c084d33ee2d"
      },
      "execution_count": null,
      "outputs": [
        {
          "output_type": "display_data",
          "data": {
            "text/plain": [
              "<Figure size 1296x360 with 1 Axes>"
            ],
            "image/png": "[encoded data removed]"
          },
          "metadata": {
            "needs_background": "light"
          }
        }
      ]
    },
    {
      "cell_type": "markdown",
      "source": [
        "Here is graph showing 1,2,3 are most of the customer done the special request are from transient types "
      ],
      "metadata": {
        "id": "cqO2Wuq7Bj49"
      }
    },
    {
      "cell_type": "markdown",
      "source": [
        "# lets see which hotel gets special request"
      ],
      "metadata": {
        "id": "reYaWZwyB43i"
      }
    },
    {
      "cell_type": "code",
      "source": [
        "sns.countplot(x=Data_df['total_of_special_requests'],hue=Data_df['hotel'])\n",
        "plt.rcParams['figure.figsize'] = (18, 5)"
      ],
      "metadata": {
        "colab": {
          "base_uri": "https://localhost:8080/",
          "height": 337
        },
        "id": "h2gaQCaZBDPa",
        "outputId": "728d9573-8a34-465c-eea9-729937d536c5"
      },
      "execution_count": null,
      "outputs": [
        {
          "output_type": "display_data",
          "data": {
            "text/plain": [
              "<Figure size 1296x360 with 1 Axes>"
            ],
            "image/png": "[encoded data removed]"
          },
          "metadata": {
            "needs_background": "light"
          }
        }
      ]
    },
    {
      "cell_type": "markdown",
      "source": [
        "so, these analysis shows us that 1,2,3 graphs shows for special request for city hotel are in higher proportion than resort hotel"
      ],
      "metadata": {
        "id": "m02WFGcrCBgY"
      }
    },
    {
      "cell_type": "markdown",
      "source": [
        "# 7. what is the proportion of Reservation Status"
      ],
      "metadata": {
        "id": "oyYV8ysg8JTL"
      }
    },
    {
      "cell_type": "code",
      "source": [
        "sns.countplot(df['reservation_status'], palette='husl')\n",
        "plt.figure(figsize=(5,8))\n",
        "plt.show()\n"
      ],
      "metadata": {
        "colab": {
          "base_uri": "https://localhost:8080/",
          "height": 678
        },
        "id": "llJ8xj9T6vGc",
        "outputId": "95265aa2-abb1-42c2-f11d-eec62e39b142"
      },
      "execution_count": null,
      "outputs": [
        {
          "output_type": "stream",
          "name": "stderr",
          "text": [
            "/usr/local/lib/python3.7/dist-packages/seaborn/_decorators.py:43: FutureWarning: Pass the following variable as a keyword arg: x. From version 0.12, the only valid positional argument will be `data`, and passing other arguments without an explicit keyword will result in an error or misinterpretation.\n",
            "  FutureWarning\n"
          ]
        },
        {
          "output_type": "display_data",
          "data": {
            "text/plain": [
              "<Figure size 720x720 with 1 Axes>"
            ],
            "image/png": "[encoded data removed]"
          },
          "metadata": {
            "needs_background": "light"
          }
        },
        {
          "output_type": "display_data",
          "data": {
            "text/plain": [
              "<Figure size 360x576 with 0 Axes>"
            ]
          },
          "metadata": {}
        }
      ]
    },
    {
      "cell_type": "markdown",
      "source": [
        "1.Canceled — booking was canceled by the customer\n",
        "2.Check-Out — customer has checked in but already departed\n",
        "3.No-Show — customer did not check-in\n"
      ],
      "metadata": {
        "id": "DUAIZVIpC5IT"
      }
    },
    {
      "cell_type": "markdown",
      "source": [
        "# Lets see what is the proportion of reservations between hotels"
      ],
      "metadata": {
        "id": "3PDbFMv58Bh1"
      }
    },
    {
      "cell_type": "code",
      "source": [
        "sns.countplot('hotel',data = Data_df)\n",
        "plt.rcParams['figure.figsize'] = (10,10)"
      ],
      "metadata": {
        "colab": {
          "base_uri": "https://localhost:8080/",
          "height": 389
        },
        "id": "hwJBsy3cHQIf",
        "outputId": "1cea5221-7e30-4e7a-d18e-6e6c0114464e"
      },
      "execution_count": null,
      "outputs": [
        {
          "output_type": "stream",
          "name": "stderr",
          "text": [
            "/usr/local/lib/python3.7/dist-packages/seaborn/_decorators.py:43: FutureWarning: Pass the following variable as a keyword arg: x. From version 0.12, the only valid positional argument will be `data`, and passing other arguments without an explicit keyword will result in an error or misinterpretation.\n",
            "  FutureWarning\n"
          ]
        },
        {
          "output_type": "display_data",
          "data": {
            "text/plain": [
              "<Figure size 720x360 with 1 Axes>"
            ],
            "image/png": "[encoded data removed]"
          },
          "metadata": {
            "needs_background": "light"
          }
        }
      ]
    },
    {
      "cell_type": "markdown",
      "source": [
        "city hotel is higher in numbers for reservations "
      ],
      "metadata": {
        "id": "WI0UbAm3Dqdx"
      }
    },
    {
      "cell_type": "markdown",
      "source": [
        "\n",
        "# 6. Which types of repeated guests have visited the most ?"
      ],
      "metadata": {
        "id": "GGyqVRLgdZNE"
      }
    },
    {
      "cell_type": "code",
      "source": [
        "sns.countplot(x=Data_df['total_of_special_requests'],hue=Data_df['customer_type'])\n",
        "plt.rcParams['figure.figsize'] = (18, 5)"
      ],
      "metadata": {
        "colab": {
          "base_uri": "https://localhost:8080/",
          "height": 335
        },
        "id": "h8Mwcg5OA44H",
        "outputId": "ce65d6df-138b-4086-a6be-f482a90b10f8"
      },
      "execution_count": null,
      "outputs": [
        {
          "output_type": "display_data",
          "data": {
            "text/plain": [
              "<Figure size 1296x360 with 1 Axes>"
            ],
            "image/png": "[encoded data removed]"
          },
          "metadata": {
            "needs_background": "light"
          }
        }
      ]
    },
    {
      "cell_type": "markdown",
      "source": [
        "Here is graphs 1,2,3 is showing that transient types of guests have done the special request "
      ],
      "metadata": {
        "id": "E54K7M-nKDya"
      }
    },
    {
      "cell_type": "markdown",
      "source": [
        "# 7. How many repeated guest's have visited (single , double, more than two)? "
      ],
      "metadata": {
        "id": "Q40DfXMQdwYz"
      }
    },
    {
      "cell_type": "code",
      "source": [
        "#one person\n",
        "single=(Data_df.adults==1) & (Data_df.children==0) &(Data_df.babies==0)\n",
        "\n",
        "#couple\n",
        "double=(Data_df.adults==2) & (Data_df.children==0) &(Data_df.babies==0)\n",
        "\n",
        "#family\n",
        "more_than_two=(Data_df.adults>=2) & (Data_df.children>0) &(Data_df.babies>0)\n",
        "\n",
        "Data_df[\"guest\"]=single.astype(int)*1 + double.astype(int) * 2 + more_than_two.astype(int) * 3\n",
        "plt.figure(figsize=(11,5))\n",
        "index=2\n",
        "for hotel_kind in ['Hotel']:\n",
        "  plt.subplot(1,2,index)\n",
        "  index+=3\n",
        "  sns.countplot(x=Data_df[\"guest\"],\n",
        "                hue=Data_df['is_repeated_guest'],\n",
        "                data=Data_df[Data_df.hotel == hotel_kind])\n",
        "  \n",
        "plt.xticks([1, 2, 3], ['Single', 'double', 'more_than_two'])\n",
        "plt.title(hotel_kind)\n",
        "plt.tight_layout()\n",
        "plt.show()"
      ],
      "metadata": {
        "colab": {
          "base_uri": "https://localhost:8080/",
          "height": 369
        },
        "id": "TFdpCE1Tdxdg",
        "outputId": "695e3c0e-01b9-40c0-8ea3-d6e0268b7029"
      },
      "execution_count": null,
      "outputs": [
        {
          "output_type": "display_data",
          "data": {
            "text/plain": [
              "<Figure size 792x360 with 1 Axes>"
            ],
            "image/png": "[encoded data removed]"
          },
          "metadata": {
            "needs_background": "light"
          }
        }
      ]
    },
    {
      "cell_type": "markdown",
      "source": [
        "There are only single and double types of guest's have visited repeatedly"
      ],
      "metadata": {
        "id": "7Fr3Ddq1Enlo"
      }
    }
  ]
}